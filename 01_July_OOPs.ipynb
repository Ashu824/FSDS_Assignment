{
 "cells": [
  {
   "cell_type": "markdown",
   "id": "f4541a07",
   "metadata": {},
   "source": [
    "7.  For a library management system, you have to design the \"Book\" class with OOP\n",
    "principles in mind. The “Book” class will have following attributes:\n",
    "a. title: Represents the title of the book.\n",
    "b. author: Represents the author(s) of the book.\n",
    "c. isbn: Represents the ISBN (International Standard Book Number) of the book.\n",
    "d. publication_year: Represents the year of publication of the book.\n",
    "e. available_copies: Represents the number of copies available for checkout.\n",
    "The class will also include the following methods:\n",
    "a. check_out(self): Decrements the available copies by one if there are copies\n",
    "available for checkout.\n",
    "b. return_book(self): Increments the available copies by one when a book is\n",
    "returned.\n",
    "c. display_book_info(self): Displays the information about the book, including its\n",
    "attributes and the number of available copies."
   ]
  },
  {
   "cell_type": "code",
   "execution_count": 3,
   "id": "244412d0",
   "metadata": {},
   "outputs": [],
   "source": [
    "class Book:\n",
    "    def __init__(self,title,author,isbn,publication_year,available_copies):\n",
    "        self.title = title\n",
    "        self.author = author\n",
    "        self.isbn = isbn\n",
    "        self.publication_year = publication_year\n",
    "        self.available_copies = available_copies\n",
    "        \n",
    "    def check_out(self):\n",
    "        if self.available_copies > 0:\n",
    "            self.available_copies = self.available_copies-1\n",
    "            print(f\"One copy of {self.title} checked out\")\n",
    "        else:\n",
    "            print(f\"No copies of {self.title} are present\")\n",
    "            \n",
    "    \n",
    "    def return_book(self):        \n",
    "        self.available_copies = self.available_copies+1\n",
    "        print(f\"One copy of {self.title} returned\")        \n",
    "    \n",
    "    def display_book_info(self):\n",
    "        print(f'Title = {self.title}')\n",
    "        print(f'Author = {self.author}')\n",
    "        print(f'isbn = {self.isbn}')\n",
    "        print(f'Publication_year = {self.publication_year}' )\n",
    "        print(f'Available copies = {self.available_copies}')"
   ]
  },
  {
   "cell_type": "code",
   "execution_count": 4,
   "id": "5d231df3",
   "metadata": {},
   "outputs": [
    {
     "name": "stdout",
     "output_type": "stream",
     "text": [
      "One copy of DummyBook checked out\n",
      "One copy of DummyBook returned\n",
      "Title = DummyBook\n",
      "Author = Ashutosh \n",
      "isbn = 34678\n",
      "Publication_year = 2023\n",
      "Available copies = 5\n"
     ]
    }
   ],
   "source": [
    "my_book = Book(\"DummyBook\", \"Ashutosh \", \"34678\", 2023, 5)\n",
    "my_book.check_out()\n",
    "my_book.return_book()\n",
    "my_book.display_book_info()"
   ]
  },
  {
   "cell_type": "markdown",
   "id": "0645baea",
   "metadata": {},
   "source": [
    "8.  For a ticket booking system, you have to design the \"Ticket\" class with OOP\n",
    "principles in mind. The “Ticket” class should have the following attributes:\n",
    "a. ticket_id: Represents the unique identifier for the ticket.\n",
    "b. event_name: Represents the name of the event.\n",
    "c. event_date: Represents the date of the event.\n",
    "d. venue: Represents the venue of the event.\n",
    "e. seat_number: Represents the seat number associated with the ticket.\n",
    "f. price: Represents the price of the ticket.\n",
    "g. is_reserved: Represents the reservation status of the ticket.\n",
    "The class also includes the following methods:\n",
    "a. reserve_ticket(self): Marks the ticket as reserved if it is not already reserved.\n",
    "b. cancel_reservation(self): Cancels the reservation of the ticket if it is already\n",
    "reserved.\n",
    "c. display_ticket_info(self): Displays the information about the ticket, including its\n",
    "attributes and reservation status"
   ]
  },
  {
   "cell_type": "code",
   "execution_count": 9,
   "id": "c8ba6322",
   "metadata": {},
   "outputs": [],
   "source": [
    "class Ticket:\n",
    "    def __init__(self, ticket_id, event_name, event_date, venue, seat_number, price):\n",
    "        self.ticket_id = ticket_id\n",
    "        self.event_name = event_name\n",
    "        self.event_date = event_date\n",
    "        self.venue = venue\n",
    "        self.seat_number = seat_number\n",
    "        self.price = price\n",
    "        self.is_reserved = False\n",
    "        \n",
    "    def reserve_ticket(self):\n",
    "        if not self.is_reserved:\n",
    "            self.is_reserved = True\n",
    "            print(\"Reservation done\")\n",
    "        else:\n",
    "            print(\"Reservation already done.\")\n",
    "    \n",
    "    def cancel_reservation(self):\n",
    "        if self.is_reserved:\n",
    "            self.is_reserved = False\n",
    "            print('Reservation cancelled')\n",
    "        else:\n",
    "            print(\"No reservation\")\n",
    "               \n",
    "    def display_ticket_info(self):\n",
    "        print(f'Ticket_ID = {self.ticket_id}')\n",
    "        print(f'Event name = {self.event_name}')\n",
    "        print(f'Event date = {self.event_date}')\n",
    "        print(f'Venue = {self.venue}')\n",
    "        print(f'Seat Number = {self.seat_number}')\n",
    "        print(f'Price = {self.price}')\n",
    "        print(f\"Reservation Status = {'Reserved' if self.is_reserved else 'Not reserved'}\")\n",
    "        "
   ]
  },
  {
   "cell_type": "code",
   "execution_count": 10,
   "id": "6647d1df",
   "metadata": {},
   "outputs": [
    {
     "name": "stdout",
     "output_type": "stream",
     "text": [
      "Ticket_ID = 12345\n",
      "Event name = IPL\n",
      "Event date = 2023-07-15\n",
      "Venue = Eden Garden\n",
      "Seat Number = G23\n",
      "Price = 5000\n",
      "Reservation Status = Not reserved\n",
      "Reservation done\n",
      "Reservation cancelled\n"
     ]
    }
   ],
   "source": [
    "ticket = Ticket(12345, \"IPL\", \"2023-07-15\", \"Eden Garden\", \"G23\", 5000)\n",
    "ticket.display_ticket_info()\n",
    "ticket.reserve_ticket()\n",
    "ticket.cancel_reservation()"
   ]
  },
  {
   "cell_type": "markdown",
   "id": "8f791fd2",
   "metadata": {},
   "source": [
    "9.  You are creating a shopping cart for an e-commerce website. Using OOP to model\n",
    "the \"ShoppingCart\" functionality the class should contain following attributes and\n",
    "methods:\n",
    "a. items: Represents the list of items in the shopping cart.\n",
    "The class also includes the following methods:\n",
    "a. add_item(self, item): Adds an item to the shopping cart by appending it to the\n",
    "list of items.\n",
    "b. remove_item(self, item): Removes an item from the shopping cart if it exists in\n",
    "the list.\n",
    "c. view_cart(self): Displays the items currently present in the shopping cart.\n",
    "d. clear_cart(self): Clears all items from the shopping cart by reassigning an\n",
    "empty list to the items attribute"
   ]
  },
  {
   "cell_type": "code",
   "execution_count": 26,
   "id": "84c646e6",
   "metadata": {},
   "outputs": [],
   "source": [
    "class ShoppingCart:\n",
    "    def __init__(self):\n",
    "        self.items = []\n",
    "        \n",
    "    def add_item(self, item):\n",
    "        self.items.append(item)\n",
    "        \n",
    "    def remove_item(self, item):\n",
    "        if item in self.items:\n",
    "            self.items.remove(item)\n",
    "            \n",
    "    def view_cart(self):\n",
    "        if self.items:\n",
    "            for item in self.items:\n",
    "                print(item)\n",
    "                \n",
    "        else:\n",
    "            print(\"No items in cart\")\n",
    "            \n",
    "    def clear_cart(self):\n",
    "        self.items = []\n",
    "        print(\"Cart is empty now.\")\n",
    "            \n",
    "            \n",
    "        "
   ]
  },
  {
   "cell_type": "code",
   "execution_count": 34,
   "id": "312a07e4",
   "metadata": {},
   "outputs": [
    {
     "name": "stdout",
     "output_type": "stream",
     "text": [
      "Book\n",
      "Pen\n",
      "Notebook\n"
     ]
    }
   ],
   "source": [
    "Cart = ShoppingCart()\n",
    "Cart.add_item(\"Book\")\n",
    "Cart.add_item(\"Pen\")\n",
    "Cart.add_item(\"Notebook\")\n",
    "Cart.view_cart()"
   ]
  },
  {
   "cell_type": "code",
   "execution_count": 35,
   "id": "f1622001",
   "metadata": {},
   "outputs": [
    {
     "name": "stdout",
     "output_type": "stream",
     "text": [
      "Book\n",
      "Notebook\n"
     ]
    }
   ],
   "source": [
    "Cart.remove_item(\"Pen\")\n",
    "Cart.view_cart()"
   ]
  },
  {
   "cell_type": "code",
   "execution_count": 36,
   "id": "929706bd",
   "metadata": {},
   "outputs": [
    {
     "name": "stdout",
     "output_type": "stream",
     "text": [
      "Cart is empty now.\n"
     ]
    }
   ],
   "source": [
    "Cart.clear_cart()"
   ]
  },
  {
   "cell_type": "code",
   "execution_count": 37,
   "id": "737712e3",
   "metadata": {},
   "outputs": [
    {
     "name": "stdout",
     "output_type": "stream",
     "text": [
      "No items in cart\n"
     ]
    }
   ],
   "source": [
    "Cart.view_cart()"
   ]
  },
  {
   "cell_type": "markdown",
   "id": "d0e30022",
   "metadata": {},
   "source": [
    "10.   Imagine a school management system. You have to design the \"Student\" class using\n",
    "OOP concepts.The “Student” class has the following attributes:\n",
    "a. name: Represents the name of the student.\n",
    "b. age: Represents the age of the student.\n",
    "c. grade: Represents the grade or class of the student.\n",
    "d. student_id: Represents the unique identifier for the student.\n",
    "e. attendance: Represents the attendance record of the student.\n",
    "The class should also include the following methods:\n",
    "a. update_attendance(self, date, status): Updates the attendance record of the\n",
    "student for a given date with the provided status (e.g., present or absent).\n",
    "b. get_attendance(self): Returns the attendance record of the student.\n",
    "c. get_average_attendance(self): Calculates and returns the average\n",
    "attendance percentage of the student based on their attendance record."
   ]
  },
  {
   "cell_type": "code",
   "execution_count": 50,
   "id": "a06b6403",
   "metadata": {},
   "outputs": [],
   "source": [
    "class Student:\n",
    "    def __init__(self, name, age, grade, student_id):\n",
    "        self.name = name\n",
    "        self.age = age\n",
    "        self.grade = grade\n",
    "        self.student_id = student_id\n",
    "        self.attendance = {}\n",
    "        \n",
    "    def update_attendance(self, date, status):\n",
    "        self.attendance[date] = status\n",
    "        \n",
    "    def get_attendance(self):\n",
    "        return self.attendance\n",
    "    \n",
    "    def get_average_attendance(self):\n",
    "        total_days = len(self.attendance)\n",
    "        present_days = 0\n",
    "        for value in self.attendance.values():\n",
    "            if value == \"present\":\n",
    "                present_days = present_days + 1\n",
    "            \n",
    "        if total_days == 0:\n",
    "            return  0\n",
    "        else:\n",
    "            return (present_days/total_days) * 100\n",
    "        "
   ]
  },
  {
   "cell_type": "code",
   "execution_count": 56,
   "id": "331bc62f",
   "metadata": {},
   "outputs": [
    {
     "name": "stdout",
     "output_type": "stream",
     "text": [
      "Average attendance of Ashutosh  is 71.42857142857143\n"
     ]
    }
   ],
   "source": [
    "\n",
    "student = Student(\"Ashutosh \", 26, \"FSDS\", \"123456\")\n",
    "\n",
    "student.update_attendance(\"2023-07-01\", \"present\")\n",
    "student.update_attendance(\"2023-07-02\", \"absent\")\n",
    "student.update_attendance(\"2023-07-03\", \"present\")\n",
    "student.update_attendance(\"2023-07-04\", \"present\")\n",
    "student.update_attendance(\"2023-07-05\", \"present\")\n",
    "student.update_attendance(\"2023-07-06\", \"present\")\n",
    "student.update_attendance(\"2023-07-07\", \"absent\")\n",
    "\n",
    "attendance = student.get_attendance()\n",
    "\n",
    "average_attendance = student.get_average_attendance()\n",
    "print(f\"Average attendance of {student.name} is {average_attendance}\")"
   ]
  },
  {
   "cell_type": "markdown",
   "id": "a1344daa",
   "metadata": {},
   "source": [
    "1.  What is the primary goal of Object-Oriented Programming (OOP)?"
   ]
  },
  {
   "cell_type": "markdown",
   "id": "f388adaf",
   "metadata": {},
   "source": [
    "The primary goal of OOPs is to create code which are modular well as scalable.\n",
    "(i) It creates objects which are basically instance of a class.\n",
    "(ii) An object of a class has information about attributes(property) as well as methods(function) which can be used wherever we      want in our code. \n",
    "(iii) With the help of OOPs we can make our code reusable, maintainable and scalable. \n",
    "(iv) OOP supports inheritance, which allows you to create new classes that inherit properties and behaviors from existing     classes. \n"
   ]
  },
  {
   "cell_type": "markdown",
   "id": "2ad59c29",
   "metadata": {},
   "source": [
    "2.  What is an object in Python?"
   ]
  },
  {
   "cell_type": "markdown",
   "id": "7ea278c0",
   "metadata": {},
   "source": [
    "An object is an instance of a class. A class is a blueprint or template that defines the properties (attributes) and behaviors (methods) that an object of that class can have. An object is a data structure that holds both attributes and methods.The attributes represent the current state of the object, while the methods define what the object can do.\n"
   ]
  },
  {
   "cell_type": "markdown",
   "id": "c07ca0b3",
   "metadata": {},
   "source": [
    "3.   What is a class in Python?"
   ]
  },
  {
   "cell_type": "markdown",
   "id": "13e19cee",
   "metadata": {},
   "source": [
    "A class is a blueprint or template that defines the structure and behavior of objects. It serves as a blueprint for creating instances, also known as objects, which are specific occurrences of the class.A class encapsulates data (attributes) and functions (methods) that operate on that data. The attributes represent the state or properties of the objects, while the methods define the actions or behaviors that objects can perform. \n",
    "\n"
   ]
  },
  {
   "cell_type": "markdown",
   "id": "0e7ad886",
   "metadata": {},
   "source": [
    "4.   What are attributes and methods in a class?\n"
   ]
  },
  {
   "cell_type": "markdown",
   "id": "6c49a072",
   "metadata": {},
   "source": [
    "Attributes are variables that define the properties or characteristics of an object. They represent the state of an object and store information that describes its current condition. Attributes are defined within the class and are accessed using the dot notation with the object or instance of the class.\n",
    "\n",
    "Methods are functions that define the behavior or actions of an object. They encapsulate the functionality associated with the class and can perform operations on the attributes of an object. Methods are also defined within the class and are invoked using the dot notation with the object."
   ]
  },
  {
   "cell_type": "markdown",
   "id": "d813bea5",
   "metadata": {},
   "source": [
    "5.   What is the difference between class variables and instance variables in Python?"
   ]
  },
  {
   "cell_type": "markdown",
   "id": "ec5406bd",
   "metadata": {},
   "source": [
    "\n",
    "\n",
    "Class Variables:\n",
    "- Class variables are variables that are shared among all instances (objects) of a class.\n",
    "- They are defined inside the class but outside of any method.\n",
    "- Class variables are accessed using the class name itself or using any instance of the class.\n",
    "- They are typically used to represent properties or attributes that are common to all instances of the class.\n",
    "- Modifying the value of a class variable affects all instances of the class.\n",
    "\n",
    "Instance Variables:\n",
    "- Instance variables are variables that are specific to each instance (object) of a class.\n",
    "- They are defined inside the class, usually within the `__init__` method.\n",
    "- Instance variables are accessed using the name of the instance (object).\n",
    "- They are used to store unique data or state for each instance of the class.\n",
    "- Modifying the value of an instance variable only affects that specific instance.\n",
    "\n"
   ]
  },
  {
   "cell_type": "markdown",
   "id": "f9d9640b",
   "metadata": {},
   "source": [
    "6.  What is the purpose of the self parameter in Python class methods?\n"
   ]
  },
  {
   "cell_type": "markdown",
   "id": "72cdd03a",
   "metadata": {},
   "source": [
    "The `self` parameter in Python is a reference to the instance of the class. It allows us to access the instance's attributes and methods within the class. When we define a method in a class, we include `self` as the first parameter in the method definition. When we call the method on an instance of the class, the instance is automatically passed as the `self` argument."
   ]
  },
  {
   "cell_type": "code",
   "execution_count": null,
   "id": "7c011723",
   "metadata": {},
   "outputs": [],
   "source": []
  }
 ],
 "metadata": {
  "kernelspec": {
   "display_name": "Python 3 (ipykernel)",
   "language": "python",
   "name": "python3"
  },
  "language_info": {
   "codemirror_mode": {
    "name": "ipython",
    "version": 3
   },
   "file_extension": ".py",
   "mimetype": "text/x-python",
   "name": "python",
   "nbconvert_exporter": "python",
   "pygments_lexer": "ipython3",
   "version": "3.9.13"
  }
 },
 "nbformat": 4,
 "nbformat_minor": 5
}
