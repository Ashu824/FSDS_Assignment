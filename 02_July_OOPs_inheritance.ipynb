{
 "cells": [
  {
   "cell_type": "markdown",
   "id": "8a49b108",
   "metadata": {},
   "source": [
    "#### 6.  Create a base class called \"Vehicle\" with attributes like \"make\", \"model\", and \"year\".Then, create a derived class called \"Car\" that inherits from \"Vehicle\" and adds an attribute called \"fuel_type\". Implement appropriate methods in both classes.\n"
   ]
  },
  {
   "cell_type": "code",
   "execution_count": 7,
   "id": "fb79f3a6",
   "metadata": {},
   "outputs": [],
   "source": [
    "class Vehicle:\n",
    "    def __init__(self, make, model, year):\n",
    "        self.make = make\n",
    "        self.model = model\n",
    "        self.year = year\n",
    "        \n",
    "    def vehicle_info(self):\n",
    "        print(f\"This {self.make} , model no: {self.model} made in {self.year}\")"
   ]
  },
  {
   "cell_type": "code",
   "execution_count": 10,
   "id": "69aead80",
   "metadata": {},
   "outputs": [],
   "source": [
    "class Car(Vehicle):\n",
    "    def __init__(self, make, model,year,fuel_type):\n",
    "        super().__init__(make, model, year)\n",
    "        self.fuel_type = fuel_type\n",
    "        \n",
    "    def car_info(self):\n",
    "        print(f\"This is a {self.make} car , model no: {self.model} made in {self.year} is of fuel type: {self.fuel_type}\")"
   ]
  },
  {
   "cell_type": "code",
   "execution_count": 11,
   "id": "0b1a3b08",
   "metadata": {},
   "outputs": [
    {
     "name": "stdout",
     "output_type": "stream",
     "text": [
      "This is a Maruti car , model no: Breeza made in 2022 is of fuel type: Petrol\n"
     ]
    }
   ],
   "source": [
    "car1 = Car(\"Maruti\", \"Breeza\", 2022, \"Petrol\")\n",
    "car1.car_info()"
   ]
  },
  {
   "cell_type": "markdown",
   "id": "bb5de7d9",
   "metadata": {},
   "source": [
    "#### 7. Create a base class called \"Employee\" with attributes like \"name\" and \"salary.\"Derive two classes, \"Manager\" and \"Developer,\" from \"Employee.\" Add an additionalattribute called \"department\" for the \"Manager\" class and \"programming_language\"for the \"Developer\" class.\n"
   ]
  },
  {
   "cell_type": "code",
   "execution_count": 16,
   "id": "0d47a03b",
   "metadata": {},
   "outputs": [],
   "source": [
    "class Employee:\n",
    "    def __init__(self, name, salary):\n",
    "        self.name = name\n",
    "        self.salary = salary\n",
    "        \n",
    "    def employee_info(self):\n",
    "        print(f\"Employee: {self.name} earns a salary of {self.salary}\")\n",
    "        \n",
    "    "
   ]
  },
  {
   "cell_type": "code",
   "execution_count": 23,
   "id": "d89ea8cb",
   "metadata": {},
   "outputs": [],
   "source": [
    "class Manager(Employee):\n",
    "    def __init__(self, name, salary, department):\n",
    "        super().__init__(name, salary)\n",
    "        self.department = department\n",
    "        \n",
    "    def manager_info(self):\n",
    "        print(f\"Manager: {self.name}, from {self.department}department earns a salary of {self.salary}.\")\n",
    "        "
   ]
  },
  {
   "cell_type": "code",
   "execution_count": 24,
   "id": "a2b5e0a7",
   "metadata": {},
   "outputs": [],
   "source": [
    "class Developer(Employee):\n",
    "    def __init__(self, name, salary, programming_language):\n",
    "        super().__init__(name, salary)\n",
    "        self.programming_language = programming_language\n",
    "        \n",
    "    def developer_info(self):\n",
    "        print(f\"Developer: {self.name}, codes in {self.programming_language} and earns a salary of {self.salary}.\")"
   ]
  },
  {
   "cell_type": "code",
   "execution_count": 25,
   "id": "410f5da6",
   "metadata": {},
   "outputs": [
    {
     "name": "stdout",
     "output_type": "stream",
     "text": [
      "Manager: Aman, from Research department earns a salary of 15LPA.\n"
     ]
    }
   ],
   "source": [
    "manager1 = Manager(\"Aman\", \"15LPA\", \"Research \")\n",
    "manager1.manager_info()"
   ]
  },
  {
   "cell_type": "code",
   "execution_count": 26,
   "id": "0be99519",
   "metadata": {},
   "outputs": [
    {
     "name": "stdout",
     "output_type": "stream",
     "text": [
      "Developer: Ashutosh, codes in Python and earns a salary of 10LPA.\n"
     ]
    }
   ],
   "source": [
    "developer1 = Developer(\"Ashutosh\", \"10LPA\", \"Python\")\n",
    "developer1.developer_info()"
   ]
  },
  {
   "cell_type": "markdown",
   "id": "ea260ec4",
   "metadata": {},
   "source": [
    "#### 8. Design a base class called \"Shape\" with attributes like \"colour\" and \"border_width.\"Create derived classes, \"Rectangle\" and \"Circle,\" that inherit from \"Shape\" and addspecific attributes like \"length\" and \"width\" for the \"Rectangle\" class and \"radius\" for the \"Circle\" class."
   ]
  },
  {
   "cell_type": "code",
   "execution_count": 42,
   "id": "419e7b0f",
   "metadata": {},
   "outputs": [],
   "source": [
    "class Shape:\n",
    "    def __init__(self, colour, border_width):\n",
    "        self.colour = colour\n",
    "        self.border_width = border_width\n",
    "        \n",
    "    def object_info(self):\n",
    "        print(f\"Object is of {self.colour} colour and have a border width of {self.border_width}.\")"
   ]
  },
  {
   "cell_type": "code",
   "execution_count": 43,
   "id": "ba16122c",
   "metadata": {},
   "outputs": [],
   "source": [
    "class Rectangle(Shape):\n",
    "    def __init__(self, colour, border_width, length, width):\n",
    "        super().__init__(colour, border_width)\n",
    "        self.length = length\n",
    "        self.width = width\n",
    "        \n",
    "    def object_info(self):\n",
    "        print(f\"Rectangle is of {self.colour} colour having a border width of {self.border_width}, length of {self.length} and width of {self.width}.\")  \n",
    "        "
   ]
  },
  {
   "cell_type": "code",
   "execution_count": 50,
   "id": "a58b11c2",
   "metadata": {},
   "outputs": [],
   "source": [
    "class Circle(Shape):\n",
    "    def __init__(self, colour, border_width, radius):\n",
    "        super().__init__(colour, border_width)\n",
    "        self.radius = radius\n",
    "    \n",
    "    def object_info(self):\n",
    "        print(f\"Circle is of {self.colour} colour having a border width of {self.border_width} and radius of {self.radius}.\")    "
   ]
  },
  {
   "cell_type": "code",
   "execution_count": 51,
   "id": "1a853a5c",
   "metadata": {},
   "outputs": [
    {
     "name": "stdout",
     "output_type": "stream",
     "text": [
      "Object is of red colour and have a border width of 170cm.\n"
     ]
    }
   ],
   "source": [
    "object1 = Shape(\"red\",\"170cm\")\n",
    "object1.object_info()"
   ]
  },
  {
   "cell_type": "code",
   "execution_count": 52,
   "id": "e0322074",
   "metadata": {},
   "outputs": [
    {
     "name": "stdout",
     "output_type": "stream",
     "text": [
      "Rectangle is of blue colour having a border width of 10cm, length of 20cm and width of 40cm.\n"
     ]
    }
   ],
   "source": [
    "rect1 = Rectangle(\"blue\",\"10cm\",\"20cm\",\"40cm\")\n",
    "rect1.object_info()"
   ]
  },
  {
   "cell_type": "code",
   "execution_count": 53,
   "id": "e85ba7cb",
   "metadata": {},
   "outputs": [
    {
     "name": "stdout",
     "output_type": "stream",
     "text": [
      "Circle is of yellow colour having a border width of 20cm and radius of 50cm.\n"
     ]
    }
   ],
   "source": [
    "circle1 = Circle(\"yellow\",\"20cm\",\"50cm\")\n",
    "circle1.object_info()"
   ]
  },
  {
   "cell_type": "markdown",
   "id": "c565781d",
   "metadata": {},
   "source": [
    "#### 9. Create a base class called \"Device\" with attributes like \"brand\" and \"model.\" Derive two classes, \"Phone\" and \"Tablet,\" from \"Device.\" Add specific attributes like\"screen_size\" for the \"Phone\" class and \"battery_capacity\" for the \"Tablet\" class.\n"
   ]
  },
  {
   "cell_type": "code",
   "execution_count": 65,
   "id": "1d07c862",
   "metadata": {},
   "outputs": [],
   "source": [
    "class Device:\n",
    "    def __init__(self, brand, model):\n",
    "        self.brand = brand\n",
    "        self.model = model\n",
    "        \n",
    "    def device_info(self):\n",
    "        pass"
   ]
  },
  {
   "cell_type": "code",
   "execution_count": 66,
   "id": "3edf8ab7",
   "metadata": {},
   "outputs": [],
   "source": [
    "class Phone(Device):\n",
    "    def __init__(self, brand, model, screen_size):\n",
    "        super().__init__(brand, model)\n",
    "        self.screen_size = screen_size\n",
    "        \n",
    "    def phone_info(self):\n",
    "        print(f\"Phone: {self.brand}\\nModel: {self.model}\\nScreen size: {self.screen_size}\")"
   ]
  },
  {
   "cell_type": "code",
   "execution_count": 67,
   "id": "29c4b60b",
   "metadata": {},
   "outputs": [],
   "source": [
    "class Tablet(Device):\n",
    "    def __init__(self, brand, model, battery_capacity):\n",
    "        super().__init__(brand, model)\n",
    "        self.battery_capacity = battery_capacity\n",
    "        \n",
    "    def tablet_info(self):\n",
    "        print(f\"Tablet: {self.brand}\\nModel: {self.model}\\nBattery capacity: {self.battery_capacity}\")\n",
    "        "
   ]
  },
  {
   "cell_type": "code",
   "execution_count": 68,
   "id": "c4d707f5",
   "metadata": {},
   "outputs": [
    {
     "name": "stdout",
     "output_type": "stream",
     "text": [
      "Phone: Samsung\n",
      "Model: A34\n",
      "Screen size: 6inch\n"
     ]
    }
   ],
   "source": [
    "phone1 = Phone(\"Samsung\", \"A34\", \"6inch\")\n",
    "phone1.phone_info()"
   ]
  },
  {
   "cell_type": "code",
   "execution_count": 70,
   "id": "0e99eec5",
   "metadata": {},
   "outputs": [
    {
     "name": "stdout",
     "output_type": "stream",
     "text": [
      "Tablet: Samsung\n",
      "Model: Galaxy\n",
      "Battery capacity: 5000 mAh\n"
     ]
    }
   ],
   "source": [
    "tablet1 = Tablet(\"Samsung\", \"Galaxy\", \"5000 mAh\")\n",
    "tablet1.tablet_info()"
   ]
  },
  {
   "cell_type": "markdown",
   "id": "d3d5441a",
   "metadata": {},
   "source": [
    "#### 10. Create a base class called \"BankAccount\" with attributes like \"account_number\" and \"balance.\" Derive two classes, \"SavingsAccount\" and \"CheckingAccount,\" from \"BankAccount.\" Add specific methods like \"calculate_interest\" for the \"SavingsAccount\" class and \"deduct_fees\" for the \"CheckingAccount\" class.\n"
   ]
  },
  {
   "cell_type": "code",
   "execution_count": 71,
   "id": "1432b063",
   "metadata": {},
   "outputs": [],
   "source": [
    "class BankAccount:\n",
    "    def __init__(self, account_number, balance):\n",
    "        self.account_number = account_number\n",
    "        self.balance = balance\n",
    "        \n",
    "class SavingAccount(BankAccount):\n",
    "    def calculate_interest(self, rate):\n",
    "        interest = self.balance * (rate / 100)\n",
    "        return interest\n",
    "    \n",
    "class CheckingAccount(BankAccount):\n",
    "    def deduct_fees(self, fees):\n",
    "        if self.balance>= fees:\n",
    "            self.balance = self.balance - fees\n",
    "        else: \n",
    "            print(\"Insufficient amount\")\n",
    "            "
   ]
  },
  {
   "cell_type": "code",
   "execution_count": 77,
   "id": "c266da6c",
   "metadata": {},
   "outputs": [
    {
     "name": "stdout",
     "output_type": "stream",
     "text": [
      "Interest: Rs.1000.0\n",
      "Remaining balance: Rs.95000\n"
     ]
    }
   ],
   "source": [
    "savings_account = SavingAccount(\"123456789\", 100000)\n",
    "interest = savings_account.calculate_interest(1)\n",
    "print(f\"Interest: Rs.{interest}\")\n",
    "\n",
    "checking_account = CheckingAccount(\"123456789\", 100000)\n",
    "checking_account.deduct_fees(5000)\n",
    "print(f\"Remaining balance: Rs.{checking_account.balance}\")"
   ]
  },
  {
   "cell_type": "markdown",
   "id": "70a05e87",
   "metadata": {},
   "source": [
    "#### 1. Explain what inheritance is in object-oriented programming and why it is used."
   ]
  },
  {
   "cell_type": "markdown",
   "id": "c8ce15a8",
   "metadata": {},
   "source": [
    "In object-oriented programming, inheritance is a mechanism that allows a class to inherit the properties (variables) and behaviors (methods) of another class. The class that is inherited from is called the \"parent\" or \"base\" class, while the class that inherits from it is called the \"child\" or \"derived\" class.\n",
    "\n",
    "Here are some benefits of using inheritance:\n",
    "\n",
    "Code reuse:Inheritance promotes code reuse by allowing you to define common attributes and methods in a base class and reuse them in multiple derived classes.\n",
    "\n",
    "Modularity and abstraction: Inheritance helps in achieving modularity and abstraction by organizing classes into a hierarchy. It allows you to define higher-level classes that capture common features shared by multiple classes, providing a clean and organized structure to your code.\n",
    "\n",
    "Polymorphism: Inheritance is a key component of polymorphism, which allows objects of different classes to be treated as objects of the same base class. This enables you to write more flexible and generic code that can work with different types of objects.\n",
    "    "
   ]
  },
  {
   "cell_type": "markdown",
   "id": "558d6e96",
   "metadata": {},
   "source": [
    "#### 2. Discuss the concept of single inheritance and multiple inheritance, highlighting their differences and advantages.\n"
   ]
  },
  {
   "cell_type": "markdown",
   "id": "7d0ebb57",
   "metadata": {},
   "source": [
    "Single inheritance refers to the concept where a class inherits properties and behaviors from a single parent class. Multiple inheritance refers to the concept where a class can inherit properties and behaviors from multiple parent classes. "
   ]
  },
  {
   "cell_type": "markdown",
   "id": "5e519e11",
   "metadata": {},
   "source": [
    "Advantages of Single Inheritance:\n",
    "\n",
    "Simplicity: Single inheritance offers a straightforward and simple approach to class inheritance. It provides a clear hierarchy of classes with a single parent-child relationship.\n",
    "\n",
    "Code Reusability: Single inheritance promotes code reusability by allowing subclasses to inherit and reuse the properties and behaviors of their parent class. It helps in reducing code duplication."
   ]
  },
  {
   "cell_type": "markdown",
   "id": "9eadf023",
   "metadata": {},
   "source": [
    "Advantages of Multiple Inheritance:\n",
    "\n",
    "Increased Flexibility: Multiple inheritance allows a class to inherit from multiple parent classes, enabling it to combine and utilize features from different sources.\n",
    "\n",
    "Code Reusability: Multiple inheritance promotes code reusability by inheriting properties and behaviors from multiple parent classes. It allows the subclass to leverage the capabilities of different parent classes without code duplication.\n",
    "\n",
    "Enhanced Modularity: Multiple inheritance facilitates modularity by allowing the creation of specialized classes that inherit specific behaviors from different parent classes. This can lead to more modular and maintainable code."
   ]
  },
  {
   "cell_type": "markdown",
   "id": "da929d90",
   "metadata": {},
   "source": [
    "Differences between Single Inheritance and Multiple Inheritance:\n",
    "In single inheritance, a class can inherit from only one parent class, while in multiple inheritance, a class can inherit from multiple parent classes.\n"
   ]
  },
  {
   "cell_type": "markdown",
   "id": "f8c395a3",
   "metadata": {},
   "source": [
    "#### 3. Explain the terms \"base class\" and \"derived class\" in the context of inheritance."
   ]
  },
  {
   "cell_type": "markdown",
   "id": "f5ac98e7",
   "metadata": {},
   "source": [
    "A base class, also known as a parent class or superclass, is the class from which other classes inherit properties and behaviors. It serves as a blueprint or template for the derived classes.\n",
    "\n",
    "A derived class, also known as a child class or subclass, is a class that inherits properties and behaviors from a base class. The derived class extends or modifies the attributes and methods of the base class to create its own specialized version. It can add new attributes, methods, or override existing ones inherited from the base class."
   ]
  },
  {
   "cell_type": "markdown",
   "id": "5ae4eb10",
   "metadata": {},
   "source": [
    "#### 4. What is the significance of the \"protected\" access modifier in inheritance? How does it differ from \"private\" and \"public\" modifiers?"
   ]
  },
  {
   "cell_type": "markdown",
   "id": "f6a55b8f",
   "metadata": {},
   "source": [
    "Protected access modifier is denoted by a single leading underscore (_). It indicates that the member should not be accessed from outside the class but can be accessed within the class or its subclasses (derived classes)\n",
    "\n",
    "Private access modifier is denoted by a double leading underscore (__). It indicates that the member should not be accessed or inherited by subclasses. Private members are intended to be used only within the class that defines them.\n",
    "\n",
    "Public Access Modifier:All class members are considered public, meaning they can be accessed and modified from anywhere, both inside and outside the class. \n",
    "\n"
   ]
  },
  {
   "cell_type": "markdown",
   "id": "78ab883c",
   "metadata": {},
   "source": [
    "#### 5. What is the purpose of the \"super\" keyword in inheritance? Provide an example"
   ]
  },
  {
   "cell_type": "markdown",
   "id": "bfd6e087",
   "metadata": {},
   "source": [
    "In inheritance, the super keyword in Python is used to refer to the superclass (or base class) and allows us to call methods or access attributes of the superclass from within the subclass."
   ]
  },
  {
   "cell_type": "code",
   "execution_count": 84,
   "id": "42ea0fb6",
   "metadata": {},
   "outputs": [],
   "source": [
    "class Person:\n",
    "    def __init__(self,name):\n",
    "        self.name=name\n",
    "\n",
    "    def display_info(self):\n",
    "        print(f\"Name is : {self.name}\")"
   ]
  },
  {
   "cell_type": "code",
   "execution_count": null,
   "id": "5d9520d3",
   "metadata": {},
   "outputs": [],
   "source": [
    "class Student(Person):\n",
    "    def __init__(self,name,grade):\n",
    "        super().__init__(name)\n",
    "        self.grade=grade\n",
    "\n",
    "    def display_info(self):\n",
    "        super().display_info()\n",
    "        print(f\"Grade is : {self.grade}\")\n"
   ]
  }
 ],
 "metadata": {
  "kernelspec": {
   "display_name": "Python 3 (ipykernel)",
   "language": "python",
   "name": "python3"
  },
  "language_info": {
   "codemirror_mode": {
    "name": "ipython",
    "version": 3
   },
   "file_extension": ".py",
   "mimetype": "text/x-python",
   "name": "python",
   "nbconvert_exporter": "python",
   "pygments_lexer": "ipython3",
   "version": "3.9.13"
  }
 },
 "nbformat": 4,
 "nbformat_minor": 5
}
